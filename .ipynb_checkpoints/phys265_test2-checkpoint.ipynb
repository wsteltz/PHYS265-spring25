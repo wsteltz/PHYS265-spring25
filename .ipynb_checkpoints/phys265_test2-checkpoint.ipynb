{
 "cells": [
  {
   "cell_type": "markdown",
   "id": "bf1ebc17-b7a6-4bad-a47f-77233baf983e",
   "metadata": {},
   "source": [
    "# Testing PHYS265 python modules\n",
    "\n",
    "In this notebook we will import some modules used during live coding sessions in class. If your session fails, your setup is not correct."
   ]
  },
  {
   "cell_type": "markdown",
   "id": "30d89183-efa1-4562-936e-66b98d621d82",
   "metadata": {},
   "source": [
    "### Versioning of modules\n",
    "\n",
    "I can be important that the modules we will be using are \"too old\"."
   ]
  },
  {
   "cell_type": "code",
   "execution_count": null,
   "id": "d36ab24b-cc73-486d-b0cc-5ce3b98b4ca1",
   "metadata": {},
   "outputs": [],
   "source": [
    "import numpy\n",
    "print(numpy.__version__)"
   ]
  },
  {
   "cell_type": "markdown",
   "id": "da169c5f-6164-460c-80ac-8414cf3da099",
   "metadata": {},
   "source": [
    "In python the name **numpy.\\_\\_version__** is a dunder (double underscore) variable or function, and is frequently used to store private information to the **numpy** module that was imported here."
   ]
  },
  {
   "cell_type": "code",
   "execution_count": null,
   "id": "43f4e01f-dcff-4b54-b38b-4cd7c537fa2e",
   "metadata": {},
   "outputs": [],
   "source": [
    "import matplotlib\n",
    "print(matplotlib.__version__)"
   ]
  },
  {
   "cell_type": "code",
   "execution_count": null,
   "id": "0fe46ee8-952a-4b22-860e-72dbdd883ca3",
   "metadata": {},
   "outputs": [],
   "source": [
    "import scipy\n",
    "print(scipy.__version__)"
   ]
  },
  {
   "cell_type": "markdown",
   "id": "8f3b7c8a-4737-4144-91e1-87c0d67ebad7",
   "metadata": {},
   "source": [
    "Now to some actual examples,as before, none should fail.\n"
   ]
  },
  {
   "cell_type": "code",
   "execution_count": null,
   "id": "0ed5ce61-ccce-4618-84a9-3388d39b3e3c",
   "metadata": {},
   "outputs": [],
   "source": [
    "import matplotlib.pyplot as plt"
   ]
  },
  {
   "cell_type": "code",
   "execution_count": null,
   "id": "a712b3ba-3d1f-4e3a-b28d-4afe8c126c19",
   "metadata": {},
   "outputs": [],
   "source": [
    "plt.plot([1,3,0,2]);"
   ]
  },
  {
   "cell_type": "code",
   "execution_count": null,
   "id": "bede0779-1283-4662-9c46-cddacf06b0c7",
   "metadata": {},
   "outputs": [],
   "source": [
    "import numpy as np\n",
    "import scipy"
   ]
  },
  {
   "cell_type": "code",
   "execution_count": null,
   "id": "473763f2-5ec6-4825-9254-f4b5867ed9ba",
   "metadata": {},
   "outputs": [],
   "source": [
    "from scipy.integrate import quad\n",
    "from scipy.integrate import solve_ivp"
   ]
  },
  {
   "cell_type": "code",
   "execution_count": null,
   "id": "4e966451-c9ce-46fe-aaf4-babed122e0fd",
   "metadata": {},
   "outputs": [],
   "source": [
    "import scipy.stats as st\n",
    "\n",
    "pvalue = st.chi2.sf(5.0, 10)\n",
    "print(pvalue)"
   ]
  },
  {
   "cell_type": "code",
   "execution_count": null,
   "id": "e18b115d-f3f6-4505-a593-40e40bc0e518",
   "metadata": {},
   "outputs": [],
   "source": [
    "from scipy.optimize import curve_fit\n",
    "from scipy.optimize import minimize"
   ]
  },
  {
   "cell_type": "markdown",
   "id": "c52c29a6-3a48-49d8-b9f6-867ebcf7c14e",
   "metadata": {},
   "source": [
    "# System\n",
    "\n",
    "For this class it should not matter what operating system you are using, but where python was installed will likely be dependant on the system you are using.  "
   ]
  },
  {
   "cell_type": "code",
   "execution_count": null,
   "id": "13b81434-8eb0-49f5-a1f8-f9b64e3285e9",
   "metadata": {},
   "outputs": [],
   "source": [
    "import os\n",
    "\n",
    "evs = ['JUPYTER_CONFIG_DIR', 'CONDA_EXE', 'JUPYTERLAB_WORKSPACES_DIR', 'GSETTINGS_SCHEMA_DIR', 'CONDA_PREFIX', 'CONDA_PYTHON_EXE']\n",
    "for ev in evs:\n",
    "    print(ev, os.environ[ev])"
   ]
  },
  {
   "cell_type": "code",
   "execution_count": null,
   "id": "c9c62cdb-eeaa-4977-ac7d-92a6adfa0536",
   "metadata": {},
   "outputs": [],
   "source": [
    "import platform\n",
    "print(platform.system())"
   ]
  },
  {
   "cell_type": "code",
   "execution_count": null,
   "id": "e975703b-a924-4d00-85c9-3cd8b3c64086",
   "metadata": {},
   "outputs": [],
   "source": [
    "import sys\n",
    "print(sys.version)"
   ]
  },
  {
   "cell_type": "markdown",
   "id": "cf429b7d-6b8a-441e-8619-8dcc322ddaab",
   "metadata": {},
   "source": [
    "# Advanced Testing\n",
    "\n",
    "We may dive into some of the notebooks Greg Sullivan used, in which case there will be some more testing below here."
   ]
  },
  {
   "cell_type": "code",
   "execution_count": null,
   "id": "ca6b82ec-2fb6-4647-b302-e0f71eedfa2b",
   "metadata": {},
   "outputs": [],
   "source": [
    "from mpl_toolkits.mplot3d import Axes3D"
   ]
  },
  {
   "cell_type": "code",
   "execution_count": null,
   "id": "f367fc6a-b874-416d-9e12-a4d5d74ad328",
   "metadata": {},
   "outputs": [],
   "source": [
    "import matplotlib.animation as animation"
   ]
  },
  {
   "cell_type": "code",
   "execution_count": null,
   "id": "f78df386-74a9-4b9e-a026-f500b215ac8d",
   "metadata": {},
   "outputs": [],
   "source": [
    "from scipy.integrate import odeint\n",
    "from scipy.integrate import solve_ivp"
   ]
  },
  {
   "cell_type": "code",
   "execution_count": null,
   "id": "d31fdefb-e338-4f49-8d85-316d01c04648",
   "metadata": {},
   "outputs": [],
   "source": [
    "from scipy.special import factorial"
   ]
  },
  {
   "cell_type": "code",
   "execution_count": null,
   "id": "607cbd4a-c37d-43b7-88b0-faae4606f0d1",
   "metadata": {},
   "outputs": [],
   "source": [
    "from scipy import sparse"
   ]
  },
  {
   "cell_type": "code",
   "execution_count": null,
   "id": "3e83aca3-dd35-4b95-8163-56ec939ca800",
   "metadata": {},
   "outputs": [],
   "source": [
    "import stat_routines as stat"
   ]
  },
  {
   "cell_type": "code",
   "execution_count": null,
   "id": "c6d0e137-f924-434b-9636-3301c07a1e23",
   "metadata": {},
   "outputs": [],
   "source": [
    "import gws_stat_routines as stat"
   ]
  },
  {
   "cell_type": "code",
   "execution_count": null,
   "id": "e12d8d3e-e2f4-4da0-b4c7-db280000e014",
   "metadata": {},
   "outputs": [],
   "source": [
    "import time"
   ]
  },
  {
   "cell_type": "code",
   "execution_count": null,
   "id": "69b53325-de8a-4dfd-8f84-946fec373256",
   "metadata": {},
   "outputs": [],
   "source": [
    "import matplotlib.image as mpimg"
   ]
  },
  {
   "cell_type": "code",
   "execution_count": null,
   "id": "fae04885-8277-4f65-8f9e-68ed4a3fc0ae",
   "metadata": {},
   "outputs": [],
   "source": [
    "from IPython.display import display"
   ]
  },
  {
   "cell_type": "code",
   "execution_count": null,
   "id": "5779221d-e0db-4e58-9efe-f2bf5add8434",
   "metadata": {},
   "outputs": [],
   "source": [
    "from ipywidgets import interactive"
   ]
  }
 ],
 "metadata": {
  "kernelspec": {
   "display_name": "Python 3 (ipykernel)",
   "language": "python",
   "name": "python3"
  },
  "language_info": {
   "codemirror_mode": {
    "name": "ipython",
    "version": 3
   },
   "file_extension": ".py",
   "mimetype": "text/x-python",
   "name": "python",
   "nbconvert_exporter": "python",
   "pygments_lexer": "ipython3",
   "version": "3.12.4"
  }
 },
 "nbformat": 4,
 "nbformat_minor": 5
}
